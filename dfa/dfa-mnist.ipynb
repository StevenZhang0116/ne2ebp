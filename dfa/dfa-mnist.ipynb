{
 "cells": [
  {
   "cell_type": "markdown",
   "metadata": {},
   "source": [
    "# DIRECT FEEDBACK ALIGNMENT ON MNIST"
   ]
  },
  {
   "cell_type": "code",
   "execution_count": 1,
   "metadata": {
    "collapsed": false
   },
   "outputs": [
    {
     "name": "stderr",
     "output_type": "stream",
     "text": [
      "Using TensorFlow backend.\n"
     ]
    }
   ],
   "source": [
    "import matplotlib.pyplot as plt\n",
    "import numpy as np\n",
    "from keras.datasets import mnist\n",
    "from keras.utils.np_utils import to_categorical\n",
    "np.random.seed(1234)\n",
    "%matplotlib inline"
   ]
  },
  {
   "cell_type": "markdown",
   "metadata": {},
   "source": [
    "## CREATING DATASET"
   ]
  },
  {
   "cell_type": "code",
   "execution_count": 2,
   "metadata": {
    "collapsed": true
   },
   "outputs": [],
   "source": [
    "(X_train, y_train), (X_test, y_test) = mnist.load_data()\n",
    "\n",
    "X_train = X_train.astype('float32')\n",
    "X_test = X_test.astype('float32')\n",
    "\n",
    "X_train /= 255\n",
    "X_test /= 255"
   ]
  },
  {
   "cell_type": "code",
   "execution_count": 3,
   "metadata": {
    "collapsed": false
   },
   "outputs": [
    {
     "data": {
      "text/plain": [
       "<matplotlib.image.AxesImage at 0x10b9d8190>"
      ]
     },
     "execution_count": 3,
     "metadata": {},
     "output_type": "execute_result"
    },
    {
     "data": {
      "image/png": "[encoded data removed]",
      "text/plain": [
       "<matplotlib.figure.Figure at 0x115cc0e10>"
      ]
     },
     "metadata": {},
     "output_type": "display_data"
    }
   ],
   "source": [
    "plt.imshow(X_train[0])"
   ]
  },
  {
   "cell_type": "code",
   "execution_count": 4,
   "metadata": {
    "collapsed": false
   },
   "outputs": [
    {
     "name": "stdout",
     "output_type": "stream",
     "text": [
      "Input dimensions\n",
      "(60000, 28, 28) (10000, 28, 28)\n",
      "(60000,) (10000,)\n",
      "After reshaping: (60000, 784) (10000, 784)\n"
     ]
    }
   ],
   "source": [
    "print 'Input dimensions'\n",
    "print X_train.shape, X_test.shape\n",
    "print y_train.shape, y_test.shape\n",
    "\n",
    "X_train = X_train.reshape(60000, 28*28)\n",
    "X_test = X_test.reshape(10000, 28*28)\n",
    "\n",
    "print 'After reshaping:', X_train.shape, X_test.shape"
   ]
  },
  {
   "cell_type": "code",
   "execution_count": 5,
   "metadata": {
    "collapsed": false
   },
   "outputs": [
    {
     "name": "stdout",
     "output_type": "stream",
     "text": [
      "Sample of label: 5\n"
     ]
    }
   ],
   "source": [
    "print 'Sample of label:', y_train[0]"
   ]
  },
  {
   "cell_type": "code",
   "execution_count": 7,
   "metadata": {
    "collapsed": true
   },
   "outputs": [],
   "source": [
    "nb_classes = 10\n",
    "y_train = to_categorical(y_train, nb_classes)\n",
    "y_test = to_categorical(y_test, nb_classes)"
   ]
  },
  {
   "cell_type": "code",
   "execution_count": 8,
   "metadata": {
    "collapsed": false
   },
   "outputs": [
    {
     "name": "stdout",
     "output_type": "stream",
     "text": [
      "After conversion to categorical: [ 0.  0.  0.  0.  0.  1.  0.  0.  0.  0.]\n"
     ]
    }
   ],
   "source": [
    "print 'After conversion to categorical:', y_train[0]"
   ]
  },
  {
   "cell_type": "markdown",
   "metadata": {},
   "source": [
    "## DEFINITION OF FORWARD AND BACKWARD PASS"
   ]
  },
  {
   "cell_type": "code",
   "execution_count": 9,
   "metadata": {
    "collapsed": true
   },
   "outputs": [],
   "source": [
    "# import of sigmoid and crossentropy\n",
    "from scipy.special import expit\n",
    "from sklearn.metrics import log_loss"
   ]
  },
  {
   "cell_type": "code",
   "execution_count": 16,
   "metadata": {
    "collapsed": true
   },
   "outputs": [],
   "source": [
    "def forward_pass(W1, W2, b1, b2, x):\n",
    "    '''This is the forward pass. It is equal for any\n",
    "    training algorithm. It's just one hidden layer\n",
    "    with tanh activation function and sigmoid on the\n",
    "    output layer'''\n",
    "    # if the input is a batch, I have to tile as many\n",
    "    # b1 and b2 as the batch size\n",
    "    a1 = np.matmul(W1, x)+np.tile(b1, x.shape[1])\n",
    "    h1 = np.tanh(a1)\n",
    "    a2 = np.matmul(W2, h1)+np.tile(b2, x.shape[1])\n",
    "    y_hat = expit(a2)\n",
    "    return a1, h1, a2, y_hat"
   ]
  },
  {
   "cell_type": "code",
   "execution_count": 17,
   "metadata": {
    "collapsed": true
   },
   "outputs": [],
   "source": [
    "def backprop_backward_pass(e, h1, W2, a1, x):\n",
    "    dW2 = -np.matmul(e, np.transpose(h1))\n",
    "    da1 = np.matmul(np.transpose(W2), e)*(1-np.tanh(a1)**2)\n",
    "    dW1 = -np.matmul(da1, np.transpose(x))\n",
    "    db1 = -np.sum(da1, axis=1)\n",
    "    db2 = -np.sum(e, axis=1)\n",
    "    return dW1, dW2, db1[:,np.newaxis], db2[:,np.newaxis]"
   ]
  },
  {
   "cell_type": "code",
   "execution_count": 18,
   "metadata": {
    "collapsed": true
   },
   "outputs": [],
   "source": [
    "def dfa_backward_pass(e, h1, B1, a1, x):\n",
    "    dW2 = -np.matmul(e, np.transpose(h1))\n",
    "    da1 = np.matmul(B1, e)*(1-np.tanh(a1)**2)\n",
    "    dW1 = -np.matmul(da1, np.transpose(x))\n",
    "    db1 = -np.sum(da1, axis=1)\n",
    "    db2 = -np.sum(e, axis=1)\n",
    "    return dW1, dW2, db1[:,np.newaxis], db2[:,np.newaxis]"
   ]
  },
  {
   "cell_type": "markdown",
   "metadata": {},
   "source": [
    "## DEFINITION OF FUNCTION TO COMPUTE ANGLE BETWEEN UPDATES"
   ]
  },
  {
   "cell_type": "code",
   "execution_count": 67,
   "metadata": {
    "collapsed": true
   },
   "outputs": [],
   "source": [
    "def average_angle(W2, B1, error, a1, a2):\n",
    "    dh1 = np.mean(np.matmul(B1, error), axis=1)[:, np.newaxis] #forse non ci va la derivata\n",
    "    c1 = np.mean(np.matmul(np.transpose(W2), error*(expit(a2)*(1-expit(a2)))), axis=1)[:, np.newaxis]\n",
    "    dh1_norm = np.linalg.norm(dh1)\n",
    "    c1_norm = np.linalg.norm(c1)\n",
    "    inverse_dh1_norm = np.power(dh1_norm, -1)\n",
    "    inverse_c1_norm = np.power(c1_norm, -1)\n",
    "    \n",
    "    # ALIGNMENT CRITERION AND ANGLE\n",
    "    Lk = (np.matmul(np.transpose(dh1), c1)*inverse_dh1_norm)[0, 0]\n",
    "    beta = np.arccos(np.clip(Lk*inverse_c1_norm, -1., 1.))*180/np.pi\n",
    "    return Lk, beta"
   ]
  },
  {
   "cell_type": "code",
   "execution_count": 88,
   "metadata": {
    "collapsed": false
   },
   "outputs": [],
   "source": [
    "def train(x, y, n_epochs=10, lr=1e-3, batch_size=200, tol=1e-1):\n",
    "    x = np.transpose(x)\n",
    "    y = np.transpose(y)\n",
    "    \n",
    "    W1, W2 = np.random.randn(800, 784), np.random.randn(10, 800)\n",
    "    b1, b2 = np.random.randn(800, 1), np.random.randn(10, 1)\n",
    "    \n",
    "    dataset_size = x.shape[1]\n",
    "    n_batches = dataset_size//batch_size\n",
    "    te_bp = []\n",
    "    for i in xrange(n_epochs):\n",
    "        perm = np.random.permutation(x.shape[1])\n",
    "        x = x[:, perm]\n",
    "        y = y[:, perm]\n",
    "        loss = 0.\n",
    "        train_error = 0.\n",
    "        for j in xrange(n_batches):\n",
    "            samples = x[:, j*batch_size:(j+1)*batch_size]\n",
    "            targets = y[:, j*batch_size:(j+1)*batch_size]\n",
    "            a1, h1, a2, y_hat = forward_pass(W1, W2, b1, b2, samples)\n",
    "            error = y_hat - targets\n",
    "            preds = np.argmax(y_hat, axis=0) \n",
    "            truth = np.argmax(targets, axis=0)\n",
    "            train_error += np.sum(preds!=truth)\n",
    "            loss_on_batch = log_loss(targets, y_hat)\n",
    "            \n",
    "            dW1, dW2, db1, db2 = backprop_backward_pass(error, h1, W2, a1, samples)\n",
    "            W1 += lr*dW1\n",
    "            W2 += lr*dW2\n",
    "            b1 += lr*db1\n",
    "            b2 += lr*db2\n",
    "            loss += loss_on_batch\n",
    "        training_error = 1.*train_error/x.shape[1]\n",
    "        print 'Loss at epoch', i+1, ':', loss/x.shape[1]\n",
    "        print 'Training error:', training_error\n",
    "        prev_training_error = 0 if i==0 else te_bp[-1]\n",
    "        if np.abs(training_error-prev_training_error) <= tol:\n",
    "            te_bp.append(training_error)\n",
    "            break\n",
    "        te_bp.append(training_error)\n",
    "    return W1, W2, b1, b2, te_bp"
   ]
  },
  {
   "cell_type": "code",
   "execution_count": 89,
   "metadata": {
    "collapsed": false,
    "scrolled": true
   },
   "outputs": [
    {
     "name": "stdout",
     "output_type": "stream",
     "text": [
      "Loss at epoch 1 : 1.29316097168\n",
      "Training error: 0.5401\n",
      "Loss at epoch 2 : 0.786214844081\n",
      "Training error: 0.293166666667\n",
      "Loss at epoch 3 : 0.671115227585\n",
      "Training error: 0.225933333333\n",
      "Loss at epoch 4 : 0.613523881339\n",
      "Training error: 0.191416666667\n",
      "Loss at epoch 5 : 0.577699551911\n",
      "Training error: 0.171016666667\n",
      "Loss at epoch 6 : 0.551920594825\n",
      "Training error: 0.156233333333\n",
      "Loss at epoch 7 : 0.532066216399\n",
      "Training error: 0.145283333333\n",
      "Loss at epoch 8 : 0.516978238059\n",
      "Training error: 0.135833333333\n",
      "Loss at epoch 9 : 0.503850544259\n",
      "Training error: 0.1283\n",
      "Loss at epoch 10 : 0.493333723631\n",
      "Training error: 0.1218\n",
      "Loss at epoch 11 : 0.483630977613\n",
      "Training error: 0.117183333333\n",
      "Loss at epoch 12 : 0.475274640371\n",
      "Training error: 0.1122\n",
      "Loss at epoch 13 : 0.467596470562\n",
      "Training error: 0.107933333333\n",
      "Loss at epoch 14 : 0.461431482362\n",
      "Training error: 0.1045\n",
      "Loss at epoch 15 : 0.454877848676\n",
      "Training error: 0.101116666667\n",
      "Loss at epoch 16 : 0.449263712032\n",
      "Training error: 0.0983833333333\n",
      "Loss at epoch 17 : 0.443843694541\n",
      "Training error: 0.0961666666667\n",
      "Loss at epoch 18 : 0.43906935372\n",
      "Training error: 0.0933333333333\n",
      "Loss at epoch 19 : 0.434436858632\n",
      "Training error: 0.0907666666667\n",
      "Loss at epoch 20 : 0.430276980609\n",
      "Training error: 0.0882666666667\n",
      "Loss at epoch 21 : 0.426426990758\n",
      "Training error: 0.08535\n",
      "Loss at epoch 22 : 0.422558980919\n",
      "Training error: 0.0836333333333\n",
      "Loss at epoch 23 : 0.418777525635\n",
      "Training error: 0.0814333333333\n",
      "Loss at epoch 24 : 0.415723043077\n",
      "Training error: 0.08005\n",
      "Loss at epoch 25 : 0.412417770734\n",
      "Training error: 0.0780166666667\n",
      "Loss at epoch 26 : 0.409253163997\n",
      "Training error: 0.0764666666667\n",
      "Loss at epoch 27 : 0.406480769125\n",
      "Training error: 0.07475\n",
      "Loss at epoch 28 : 0.403840123297\n",
      "Training error: 0.0735666666667\n",
      "Loss at epoch 29 : 0.400941274977\n",
      "Training error: 0.072\n",
      "Loss at epoch 30 : 0.398832069308\n",
      "Training error: 0.0708333333333\n",
      "Loss at epoch 31 : 0.396477146514\n",
      "Training error: 0.0693666666667\n",
      "Loss at epoch 32 : 0.393919735293\n",
      "Training error: 0.06825\n",
      "Loss at epoch 33 : 0.391774622184\n",
      "Training error: 0.0672\n",
      "Loss at epoch 34 : 0.389632319634\n",
      "Training error: 0.0656166666667\n",
      "Loss at epoch 35 : 0.387628993191\n",
      "Training error: 0.0648\n",
      "Loss at epoch 36 : 0.385426740481\n",
      "Training error: 0.0629833333333\n",
      "Loss at epoch 37 : 0.383916267555\n",
      "Training error: 0.0619833333333\n",
      "Loss at epoch 38 : 0.381734558961\n",
      "Training error: 0.0606333333333\n",
      "Loss at epoch 39 : 0.380188374069\n",
      "Training error: 0.0600833333333\n",
      "Loss at epoch 40 : 0.378421586983\n",
      "Training error: 0.05895\n",
      "Loss at epoch 41 : 0.376939582172\n",
      "Training error: 0.0578833333333\n",
      "Loss at epoch 42 : 0.375182165771\n",
      "Training error: 0.0568333333333\n",
      "Loss at epoch 43 : 0.3736654333\n",
      "Training error: 0.0561166666667\n",
      "Loss at epoch 44 : 0.372235570253\n",
      "Training error: 0.0551\n",
      "Loss at epoch 45 : 0.370822223047\n",
      "Training error: 0.0542\n",
      "Loss at epoch 46 : 0.369486313015\n",
      "Training error: 0.05325\n",
      "Loss at epoch 47 : 0.368063670278\n",
      "Training error: 0.0522166666667\n",
      "Loss at epoch 48 : 0.366810343174\n",
      "Training error: 0.0514166666667\n",
      "Loss at epoch 49 : 0.36549723784\n",
      "Training error: 0.05085\n",
      "Loss at epoch 50 : 0.364285632493\n",
      "Training error: 0.0501166666667\n",
      "Loss at epoch 51 : 0.362990623856\n",
      "Training error: 0.0492166666667\n",
      "Loss at epoch 52 : 0.361955179048\n",
      "Training error: 0.0486166666667\n",
      "Loss at epoch 53 : 0.36074004404\n",
      "Training error: 0.0475666666667\n",
      "Loss at epoch 54 : 0.359628819291\n",
      "Training error: 0.0467333333333\n",
      "Loss at epoch 55 : 0.358615119865\n",
      "Training error: 0.0463166666667\n",
      "Loss at epoch 56 : 0.357623370351\n",
      "Training error: 0.0453333333333\n",
      "Loss at epoch 57 : 0.356472181187\n",
      "Training error: 0.0451166666667\n",
      "Loss at epoch 58 : 0.355552739605\n",
      "Training error: 0.0440833333333\n",
      "Loss at epoch 59 : 0.354595450856\n",
      "Training error: 0.0434833333333\n",
      "Loss at epoch 60 : 0.353716340369\n",
      "Training error: 0.0430333333333\n",
      "Loss at epoch 61 : 0.352648057813\n",
      "Training error: 0.0423666666667\n",
      "Loss at epoch 62 : 0.351989376049\n",
      "Training error: 0.0416166666667\n",
      "Loss at epoch 63 : 0.350940929451\n",
      "Training error: 0.0412\n",
      "Loss at epoch 64 : 0.350161227342\n",
      "Training error: 0.0407333333333\n",
      "Loss at epoch 65 : 0.349333612531\n",
      "Training error: 0.0401333333333\n",
      "Loss at epoch 66 : 0.348524306778\n",
      "Training error: 0.0395666666667\n",
      "Loss at epoch 67 : 0.347701009244\n",
      "Training error: 0.0387833333333\n",
      "Loss at epoch 68 : 0.346999742015\n",
      "Training error: 0.0384666666667\n",
      "Loss at epoch 69 : 0.346096551021\n",
      "Training error: 0.03785\n",
      "Loss at epoch 70 : 0.345424474614\n",
      "Training error: 0.0374833333333\n",
      "Loss at epoch 71 : 0.344716517622\n",
      "Training error: 0.0369666666667\n",
      "Loss at epoch 72 : 0.344070162814\n",
      "Training error: 0.0362\n",
      "Loss at epoch 73 : 0.343255001601\n",
      "Training error: 0.0358333333333\n",
      "Loss at epoch 74 : 0.342641172006\n",
      "Training error: 0.0356666666667\n",
      "Loss at epoch 75 : 0.341943867617\n",
      "Training error: 0.0350166666667\n",
      "Loss at epoch 76 : 0.341267288582\n",
      "Training error: 0.03445\n",
      "Loss at epoch 77 : 0.340726526799\n",
      "Training error: 0.0340333333333\n",
      "Loss at epoch 78 : 0.340152174946\n",
      "Training error: 0.0335166666667\n",
      "Loss at epoch 79 : 0.339542701612\n",
      "Training error: 0.0329666666667\n",
      "Loss at epoch 80 : 0.338803910584\n",
      "Training error: 0.0327\n",
      "Loss at epoch 81 : 0.33820893355\n",
      "Training error: 0.0321666666667\n",
      "Loss at epoch 82 : 0.337708072772\n",
      "Training error: 0.0313833333333\n",
      "Loss at epoch 83 : 0.337122657508\n",
      "Training error: 0.0312166666667\n",
      "Loss at epoch 84 : 0.336554525833\n",
      "Training error: 0.0307666666667\n",
      "Loss at epoch 85 : 0.336000237417\n",
      "Training error: 0.03015\n",
      "Loss at epoch 86 : 0.335484964145\n",
      "Training error: 0.0299833333333\n",
      "Loss at epoch 87 : 0.334974848268\n",
      "Training error: 0.02925\n",
      "Loss at epoch 88 : 0.334485994408\n",
      "Training error: 0.0291166666667\n",
      "Loss at epoch 89 : 0.33393483306\n",
      "Training error: 0.0286166666667\n",
      "Loss at epoch 90 : 0.333592400039\n",
      "Training error: 0.0283\n",
      "Loss at epoch 91 : 0.333021019666\n",
      "Training error: 0.0279833333333\n",
      "Loss at epoch 92 : 0.332566893709\n",
      "Training error: 0.02745\n",
      "Loss at epoch 93 : 0.332097048513\n",
      "Training error: 0.0270166666667\n",
      "Loss at epoch 94 : 0.331814535313\n",
      "Training error: 0.02675\n",
      "Loss at epoch 95 : 0.331218922334\n",
      "Training error: 0.0263166666667\n",
      "Loss at epoch 96 : 0.330816793995\n",
      "Training error: 0.0258833333333\n",
      "Loss at epoch 97 : 0.330356732234\n",
      "Training error: 0.02565\n",
      "Loss at epoch 98 : 0.32981690804\n",
      "Training error: 0.0252166666667\n",
      "Loss at epoch 99 : 0.32951099014\n",
      "Training error: 0.02495\n",
      "Loss at epoch 100 : 0.329123058583\n",
      "Training error: 0.0246333333333\n"
     ]
    }
   ],
   "source": [
    "W1, W2, b1, b2, te_bp = train(X_train, y_train, n_epochs=100, lr=1e-4, batch_size=200, tol=1e-4)"
   ]
  },
  {
   "cell_type": "code",
   "execution_count": 93,
   "metadata": {
    "collapsed": true
   },
   "outputs": [],
   "source": [
    "def dfa_train(x, y, n_epochs=10, lr=1e-3, batch_size=200, tol=1e-3):\n",
    "    x = np.transpose(x)\n",
    "    y = np.transpose(y)\n",
    "    \n",
    "    W1, W2 = np.random.randn(800, 784), np.random.randn(10, 800)\n",
    "    b1, b2 = np.random.randn(800, 1), np.random.randn(10, 1)\n",
    "    \n",
    "    B1 = np.random.randn(800, 10)\n",
    "    dataset_size = x.shape[1]\n",
    "    n_batches = dataset_size//batch_size\n",
    "    te_dfa = []\n",
    "    angles = []\n",
    "    for i in xrange(n_epochs):\n",
    "        perm = np.random.permutation(x.shape[1])\n",
    "        x = x[:, perm]\n",
    "        y = y[:, perm]\n",
    "        loss = 0.\n",
    "        train_error = 0.\n",
    "        for j in xrange(n_batches):\n",
    "            samples = x[:, j*batch_size:(j+1)*batch_size]\n",
    "            targets = y[:, j*batch_size:(j+1)*batch_size]\n",
    "            a1, h1, a2, y_hat = forward_pass(W1, W2, b1, b2, samples)\n",
    "            error = y_hat - targets\n",
    "            preds = np.argmax(y_hat, axis=0) \n",
    "            truth = np.argmax(targets, axis=0)\n",
    "            train_error += 1.*np.sum(preds!=truth)\n",
    "            loss_on_batch = log_loss(targets, y_hat)\n",
    "            \n",
    "            dW1, dW2, db1, db2 = dfa_backward_pass(error, h1, B1, a1, samples)\n",
    "            W1 += lr*dW1\n",
    "            W2 += lr*dW2\n",
    "            b1 += lr*db1\n",
    "            b2 += lr*db2\n",
    "            loss += loss_on_batch\n",
    "            if j%100==0:\n",
    "                angles.append(average_angle(W2, B1, error, a1, a2))\n",
    "        training_error = 1.*train_error/x.shape[1]\n",
    "        print 'Loss at epoch', i+1, ':', loss/x.shape[1]\n",
    "        print 'Training error:', training_error\n",
    "        prev_training_error = 0 if i==0 else te_dfa[-1]\n",
    "        if np.abs(training_error-prev_training_error) <= tol:\n",
    "            te_dfa.append(training_error)\n",
    "            break\n",
    "        te_dfa.append(training_error)\n",
    "    return W1, W2, b1, b2, te_dfa, angles"
   ]
  },
  {
   "cell_type": "code",
   "execution_count": 94,
   "metadata": {
    "collapsed": false
   },
   "outputs": [
    {
     "name": "stdout",
     "output_type": "stream",
     "text": [
      "Loss at epoch 1 : 1.65109241641\n",
      "Training error: 0.693116666667\n",
      "Loss at epoch 2 : 1.04916236747\n",
      "Training error: 0.440316666667\n",
      "Loss at epoch 3 : 0.873364388419\n",
      "Training error: 0.3418\n",
      "Loss at epoch 4 : 0.786652815664\n",
      "Training error: 0.290133333333\n",
      "Loss at epoch 5 : 0.731399922834\n",
      "Training error: 0.257216666667\n",
      "Loss at epoch 6 : 0.693713566774\n",
      "Training error: 0.2339\n",
      "Loss at epoch 7 : 0.664215693563\n",
      "Training error: 0.217483333333\n",
      "Loss at epoch 8 : 0.640423813291\n",
      "Training error: 0.204716666667\n",
      "Loss at epoch 9 : 0.621577126417\n",
      "Training error: 0.194166666667\n",
      "Loss at epoch 10 : 0.605224562283\n",
      "Training error: 0.184833333333\n",
      "Loss at epoch 11 : 0.590777934056\n",
      "Training error: 0.177683333333\n",
      "Loss at epoch 12 : 0.578247863077\n",
      "Training error: 0.1709\n",
      "Loss at epoch 13 : 0.566848705067\n",
      "Training error: 0.164683333333\n",
      "Loss at epoch 14 : 0.5567539817\n",
      "Training error: 0.159583333333\n",
      "Loss at epoch 15 : 0.547760235865\n",
      "Training error: 0.154516666667\n",
      "Loss at epoch 16 : 0.539087800527\n",
      "Training error: 0.149816666667\n",
      "Loss at epoch 17 : 0.531889992441\n",
      "Training error: 0.145483333333\n",
      "Loss at epoch 18 : 0.524403717534\n",
      "Training error: 0.14225\n",
      "Loss at epoch 19 : 0.517991561904\n",
      "Training error: 0.13885\n",
      "Loss at epoch 20 : 0.5119782586\n",
      "Training error: 0.135116666667\n",
      "Loss at epoch 21 : 0.506057914272\n",
      "Training error: 0.13215\n",
      "Loss at epoch 22 : 0.500763466248\n",
      "Training error: 0.129166666667\n",
      "Loss at epoch 23 : 0.495927163246\n",
      "Training error: 0.126966666667\n",
      "Loss at epoch 24 : 0.490590767012\n",
      "Training error: 0.124166666667\n",
      "Loss at epoch 25 : 0.486027882856\n",
      "Training error: 0.1216\n",
      "Loss at epoch 26 : 0.482013229968\n",
      "Training error: 0.119166666667\n",
      "Loss at epoch 27 : 0.477575814306\n",
      "Training error: 0.117133333333\n",
      "Loss at epoch 28 : 0.473043049603\n",
      "Training error: 0.114183333333\n",
      "Loss at epoch 29 : 0.469671324416\n",
      "Training error: 0.112166666667\n",
      "Loss at epoch 30 : 0.465628471404\n",
      "Training error: 0.110466666667\n",
      "Loss at epoch 31 : 0.462181572008\n",
      "Training error: 0.10855\n",
      "Loss at epoch 32 : 0.458774553449\n",
      "Training error: 0.106666666667\n",
      "Loss at epoch 33 : 0.45573647294\n",
      "Training error: 0.104733333333\n",
      "Loss at epoch 34 : 0.452444343951\n",
      "Training error: 0.103133333333\n",
      "Loss at epoch 35 : 0.449614385472\n",
      "Training error: 0.101366666667\n",
      "Loss at epoch 36 : 0.446561395666\n",
      "Training error: 0.0997833333333\n",
      "Loss at epoch 37 : 0.443756111629\n",
      "Training error: 0.0984666666667\n",
      "Loss at epoch 38 : 0.441147603437\n",
      "Training error: 0.0972166666667\n",
      "Loss at epoch 39 : 0.438303927321\n",
      "Training error: 0.0958\n",
      "Loss at epoch 40 : 0.436043541135\n",
      "Training error: 0.09455\n",
      "Loss at epoch 41 : 0.433559464752\n",
      "Training error: 0.0933666666667\n",
      "Loss at epoch 42 : 0.430934180351\n",
      "Training error: 0.0920833333333\n",
      "Loss at epoch 43 : 0.428769547042\n",
      "Training error: 0.09115\n",
      "Loss at epoch 44 : 0.426721738393\n",
      "Training error: 0.0900333333333\n",
      "Loss at epoch 45 : 0.424514114134\n",
      "Training error: 0.0887333333333\n",
      "Loss at epoch 46 : 0.422296428187\n",
      "Training error: 0.0879166666667\n",
      "Loss at epoch 47 : 0.420303238172\n",
      "Training error: 0.0868666666667\n",
      "Loss at epoch 48 : 0.41845298137\n",
      "Training error: 0.08545\n",
      "Loss at epoch 49 : 0.416306915775\n",
      "Training error: 0.0841333333333\n",
      "Loss at epoch 50 : 0.414465170149\n",
      "Training error: 0.0833333333333\n",
      "Loss at epoch 51 : 0.412723183464\n",
      "Training error: 0.0822333333333\n",
      "Loss at epoch 52 : 0.410830612851\n",
      "Training error: 0.0809833333333\n",
      "Loss at epoch 53 : 0.409174817769\n",
      "Training error: 0.0801666666667\n",
      "Loss at epoch 54 : 0.407519619802\n",
      "Training error: 0.0793\n",
      "Loss at epoch 55 : 0.405807891475\n",
      "Training error: 0.0783166666667\n",
      "Loss at epoch 56 : 0.404303205073\n",
      "Training error: 0.0774833333333\n",
      "Loss at epoch 57 : 0.402862370871\n",
      "Training error: 0.07655\n",
      "Loss at epoch 58 : 0.401236109245\n",
      "Training error: 0.0757166666667\n",
      "Loss at epoch 59 : 0.399613930811\n",
      "Training error: 0.07445\n",
      "Loss at epoch 60 : 0.398359817029\n",
      "Training error: 0.0739666666667\n",
      "Loss at epoch 61 : 0.396846013415\n",
      "Training error: 0.07285\n",
      "Loss at epoch 62 : 0.39563667754\n",
      "Training error: 0.0722166666667\n",
      "Loss at epoch 63 : 0.394188734697\n",
      "Training error: 0.0717833333333\n",
      "Loss at epoch 64 : 0.392857716207\n",
      "Training error: 0.0707666666667\n",
      "Loss at epoch 65 : 0.391554572104\n",
      "Training error: 0.0702166666667\n",
      "Loss at epoch 66 : 0.390256955759\n",
      "Training error: 0.0693\n",
      "Loss at epoch 67 : 0.389191955178\n",
      "Training error: 0.0684666666667\n",
      "Loss at epoch 68 : 0.388029865857\n",
      "Training error: 0.06815\n",
      "Loss at epoch 69 : 0.386779466626\n",
      "Training error: 0.0671\n",
      "Loss at epoch 70 : 0.385692042992\n",
      "Training error: 0.0668166666667\n",
      "Loss at epoch 71 : 0.384446224608\n",
      "Training error: 0.0658166666667\n",
      "Loss at epoch 72 : 0.383270476716\n",
      "Training error: 0.0654\n",
      "Loss at epoch 73 : 0.382497190434\n",
      "Training error: 0.06465\n",
      "Loss at epoch 74 : 0.381235926093\n",
      "Training error: 0.0639666666667\n",
      "Loss at epoch 75 : 0.380351489033\n",
      "Training error: 0.0634\n",
      "Loss at epoch 76 : 0.379149123724\n",
      "Training error: 0.0628166666667\n",
      "Loss at epoch 77 : 0.377999429783\n",
      "Training error: 0.06225\n",
      "Loss at epoch 78 : 0.377254067531\n",
      "Training error: 0.0616166666667\n",
      "Loss at epoch 79 : 0.376156362847\n",
      "Training error: 0.0611833333333\n",
      "Loss at epoch 80 : 0.375301881425\n",
      "Training error: 0.0605333333333\n",
      "Loss at epoch 81 : 0.374391560418\n",
      "Training error: 0.0597166666667\n",
      "Loss at epoch 82 : 0.373386859515\n",
      "Training error: 0.0589833333333\n",
      "Loss at epoch 83 : 0.372470321027\n",
      "Training error: 0.0585333333333\n",
      "Loss at epoch 84 : 0.371600418556\n",
      "Training error: 0.058\n",
      "Loss at epoch 85 : 0.370790066101\n",
      "Training error: 0.0572833333333\n",
      "Loss at epoch 86 : 0.369791913116\n",
      "Training error: 0.0568833333333\n",
      "Loss at epoch 87 : 0.368944325907\n",
      "Training error: 0.0561833333333\n",
      "Loss at epoch 88 : 0.368103141539\n",
      "Training error: 0.0554\n",
      "Loss at epoch 89 : 0.36734947395\n",
      "Training error: 0.0546166666667\n",
      "Loss at epoch 90 : 0.366522487157\n",
      "Training error: 0.0542\n",
      "Loss at epoch 91 : 0.365745589573\n",
      "Training error: 0.0537166666667\n",
      "Loss at epoch 92 : 0.364752008246\n",
      "Training error: 0.05275\n",
      "Loss at epoch 93 : 0.36423540566\n",
      "Training error: 0.0525333333333\n",
      "Loss at epoch 94 : 0.363471074122\n",
      "Training error: 0.0521666666667\n",
      "Loss at epoch 95 : 0.362875226477\n",
      "Training error: 0.0515833333333\n",
      "Loss at epoch 96 : 0.362095025337\n",
      "Training error: 0.05105\n",
      "Loss at epoch 97 : 0.361295719136\n",
      "Training error: 0.0504666666667\n",
      "Loss at epoch 98 : 0.360772713605\n",
      "Training error: 0.0504\n"
     ]
    }
   ],
   "source": [
    "W1dfa, W2dfa, b1dfa, b2dfa, te_dfa, angles = dfa_train(X_train, y_train, n_epochs=100, lr=1e-4, batch_size=200, tol=1e-4)"
   ]
  },
  {
   "cell_type": "code",
   "execution_count": 95,
   "metadata": {
    "collapsed": true
   },
   "outputs": [],
   "source": [
    "def test(W1, W2, b1, b2, test_samples, test_targets):\n",
    "    test_samples = np.transpose(test_samples)\n",
    "    test_targets = np.transpose(test_targets)\n",
    "    outs = forward_pass(W1, W2, b1, b2, test_samples)[-1]\n",
    "    preds = np.argmax(outs, axis=0) \n",
    "    truth = np.argmax(test_targets, axis=0)\n",
    "    test_error = 1.*np.sum(preds!=truth)/preds.shape[0]\n",
    "    return test_error"
   ]
  },
  {
   "cell_type": "code",
   "execution_count": 97,
   "metadata": {
    "collapsed": false
   },
   "outputs": [
    {
     "name": "stdout",
     "output_type": "stream",
     "text": [
      "BP: 7.71 %\n",
      "DFA: 7.7 %\n"
     ]
    }
   ],
   "source": [
    "print 'BP:', test(W1, W2, b1, b2, X_test, y_test)*100, '%'\n",
    "print 'DFA:', test(W1dfa, W2dfa, b1dfa, b2dfa, X_test, y_test)*100, '%'"
   ]
  },
  {
   "cell_type": "code",
   "execution_count": 98,
   "metadata": {
    "collapsed": false
   },
   "outputs": [
    {
     "data": {
      "image/png": "[encoded data removed]",
      "text/plain": [
       "<matplotlib.figure.Figure at 0x11dd92ed0>"
      ]
     },
     "metadata": {},
     "output_type": "display_data"
    }
   ],
   "source": [
    "plt.plot(range(len(te_bp)), te_bp, label='BP training error')\n",
    "plt.plot(range(len(te_dfa)), te_dfa, label='DFA training error')\n",
    "plt.title('Learning rate 1e-4')\n",
    "plt.xlabel('Epochs')\n",
    "plt.ylabel('Training error %')\n",
    "plt.legend(loc='best')\n",
    "plt.show()"
   ]
  },
  {
   "cell_type": "code",
   "execution_count": 105,
   "metadata": {
    "collapsed": false
   },
   "outputs": [],
   "source": [
    "l, beta = zip(*angles)"
   ]
  },
  {
   "cell_type": "code",
   "execution_count": 108,
   "metadata": {
    "collapsed": false
   },
   "outputs": [
    {
     "data": {
      "image/png": "[encoded data removed]",
      "text/plain": [
       "<matplotlib.figure.Figure at 0x11864d390>"
      ]
     },
     "metadata": {},
     "output_type": "display_data"
    }
   ],
   "source": [
    "plt.plot(range(len(beta)), beta, label='angle')\n",
    "plt.legend(loc='best')\n",
    "plt.xlabel('Epoch*3')\n",
    "plt.ylabel('Angle')\n",
    "plt.show()"
   ]
  }
 ],
 "metadata": {
  "kernelspec": {
   "display_name": "Python 2",
   "language": "python",
   "name": "python2"
  },
  "language_info": {
   "codemirror_mode": {
    "name": "ipython",
    "version": 2
   },
   "file_extension": ".py",
   "mimetype": "text/x-python",
   "name": "python",
   "nbconvert_exporter": "python",
   "pygments_lexer": "ipython2",
   "version": "2.7.10"
  }
 },
 "nbformat": 4,
 "nbformat_minor": 0
}
