{
 "cells": [
  {
   "cell_type": "markdown",
   "metadata": {},
   "source": [
    "# DIRECT FEEDBACK ALIGNMENT"
   ]
  },
  {
   "cell_type": "markdown",
   "metadata": {},
   "source": [
    "In this notebook a linear neural net with one hidden layer learns to multiply by a matrix using [direct feedback alignment](https://arxiv.org/pdf/1609.01596.pdf) instead of backpropagation.\n",
    "\n",
    "In practice, it learns $ W_1 $, $W_2$ such that\n",
    "\n",
    "$$ M = W_2 W_1 $$"
   ]
  },
  {
   "cell_type": "code",
   "execution_count": 1,
   "metadata": {
    "collapsed": true
   },
   "outputs": [],
   "source": [
    "import numpy as np\n",
    "import matplotlib.pyplot as plt\n",
    "%matplotlib inline\n",
    "np.random.seed(1234)"
   ]
  },
  {
   "cell_type": "code",
   "execution_count": 2,
   "metadata": {
    "collapsed": true
   },
   "outputs": [],
   "source": [
    "def create_dataset(n_in, n_out, len_samples):\n",
    "    '''Creates randomly a matrix n_out x n_in which will be\n",
    "       the target function to learn. Then generates\n",
    "       len_samples examples which will be the training set'''\n",
    "    M = np.random.randint(low=-10, high=10, size=(n_out, n_in))\n",
    "    samples = []\n",
    "    targets = []    \n",
    "    for i in xrange(len_samples):\n",
    "        sample = np.random.randn(n_in)\n",
    "        samples.append(sample)\n",
    "        targets.append(np.dot(M, sample))\n",
    "        \n",
    "    return M, np.asarray(samples), np.asarray(targets)"
   ]
  },
  {
   "cell_type": "markdown",
   "metadata": {},
   "source": [
    "The forward pass is just\n",
    "\n",
    "$$ \\hat{y} = W_2 W_1 x$$\n",
    "\n",
    "The backward pass for DFA takes the error $e = \\hat{y}-y_{true}$ and projects it onto the dimension of the hidden layer:\n",
    "\n",
    "$$\\delta W_1 = -(B_1 e)x^T$$\n",
    "$$\\delta W_2 = -e a_1^T$$\n",
    "\n",
    "where $a_1 = W_1 x$."
   ]
  },
  {
   "cell_type": "code",
   "execution_count": 3,
   "metadata": {
    "collapsed": true
   },
   "outputs": [],
   "source": [
    "# Here lies all the logic of the network\n",
    "def forward_pass(input, W1, W2):\n",
    "    a1 = np.dot(W1, input)\n",
    "    y_hat = np.dot(W2, a1)\n",
    "    return a1, y_hat\n",
    "    \n",
    "def backward_pass(e, B1, input, a1):\n",
    "    dW1 = -(np.dot(np.dot(B1, e), np.transpose(input)))\n",
    "    dW2 = -np.dot(e, np.transpose(a1))\n",
    "    \n",
    "    return dW1, dW2"
   ]
  },
  {
   "cell_type": "markdown",
   "metadata": {},
   "source": [
    "## WHAT ALIGNS WITH WHAT?\n",
    "\n",
    "Theorem 1 in the paper states that the negative update directions $\\delta h_i$ will try to maximize an alignment criterion which, in the case of two hidden layers, is:\n",
    "\n",
    "$$L = L_k + L_{k+1} = \\frac{\\delta h_k^T c_k}{||\\delta h_k||} + \\frac{\\delta h_{k+1}^T c_{k+1}}{||\\delta h_{k+1}||}$$\n",
    "\n",
    "where\n",
    "\n",
    "$$c_k = \\frac{\\partial h_{k+1}}{\\partial h_k}\\delta h_{k+1} = W_{k+1}^T ( \\delta h_{k+1} \\odot f'(a_{k+1}))$$\n",
    "$$c_{k+1} = \\frac{\\partial h_{k+1}}{\\partial h_k^T}\\delta h_k = (W_{k+1} \\delta h_k) \\odot f'(a_{k+1})$$\n",
    "\n",
    "and $\\delta h_{k+1} = e$ if $k+1$ is the output layer, $\\delta h_k = B_k e$ for hidden layers.\n",
    "\n",
    "$L_k >0$ implies that the angle between $\\delta h_k$ and the backpropagated gradient $c_k$ is lower than $90°$:\n",
    "\n",
    "$$\\cos(\\beta) = \\frac{c_k^T \\delta h_k}{||c_k||||\\delta h_k||} = \\frac{L_k}{||c_k||}>0 \\rightarrow |\\beta|<90°$$\n",
    "\n",
    "Then $\\delta h_k$ is pointing in a descending direction, because a vector within 90° of the steepest descending direction is also in a descending direction."
   ]
  },
  {
   "cell_type": "code",
   "execution_count": 4,
   "metadata": {
    "collapsed": true
   },
   "outputs": [],
   "source": [
    "def average_angle(W2, B1, error):\n",
    "    dh1 = np.mean(np.dot(B1, error), axis=1)\n",
    "    c1 = np.mean(np.dot(np.transpose(W2), error), axis=1)\n",
    "    dh1_norm = np.linalg.norm(dh1)\n",
    "    c1_norm = np.linalg.norm(c1)\n",
    "    inverse_dh1_norm = np.power(dh1_norm, -1)\n",
    "    inverse_c1_norm = np.power(c1_norm, -1)\n",
    "    \n",
    "    # ALIGNMENT CRITERION AND ANGLE\n",
    "    Lk = np.matmul(np.transpose(dh1), c1)*inverse_dh1_norm*inverse_c1_norm\n",
    "    beta = np.arccos(np.clip(Lk, -1., 1.))*180/np.pi\n",
    "    return Lk, beta"
   ]
  },
  {
   "cell_type": "code",
   "execution_count": 5,
   "metadata": {
    "collapsed": true
   },
   "outputs": [],
   "source": [
    "def train_on_dataset(samples, targets, n_in, n_out, n_hidden, n_epoch=4000, lr=1e-6, tol=1e-3):\n",
    "    # Initialization of weights - they can be initialized to zero\n",
    "    # (except when using ReLu activation functions) or randomly.\n",
    "    W1 = np.zeros((n_hidden, n_in))\n",
    "    W2 = np.zeros((n_out, n_hidden))\n",
    "    \n",
    "    # Initialization of the random feedback matrix - important\n",
    "    # constraint: zero mean.\n",
    "    B1 = np.random.randn(n_hidden, n_out)\n",
    "    \n",
    "    # initalize lists to save angles and alignment values during training\n",
    "    angles = []\n",
    "    Lk = []\n",
    "    \n",
    "    # transpose samples and targets to do batch training - in this case\n",
    "    # we train the net on the whole dataset at once.\n",
    "    samples = np.transpose(samples)\n",
    "    targets = np.transpose(targets)\n",
    "    \n",
    "    # TRAINING\n",
    "    for i in xrange(n_epoch):\n",
    "        a1, y_hat = forward_pass(samples, W1, W2)\n",
    "        errors = y_hat - targets\n",
    "        cost = 0.5*np.sum((y_hat-targets)**2)\n",
    "        dW1, dW2 = backward_pass(errors, B1, samples, a1)\n",
    "        W1 += lr*dW1\n",
    "        W2 += lr*dW2\n",
    "        # every 50 epochs excpet for the first one (weights are zero\n",
    "        # and norms go to zero -> numerical instability)\n",
    "        if (i-1)%10==0:\n",
    "            print 'Cost:', cost\n",
    "            print 'Computing angle between updates - epoch', i\n",
    "            crit, beta = average_angle(W2, B1, errors)\n",
    "            angles.append(beta)\n",
    "            Lk.append(crit)\n",
    "            print 'Alignment criterion:', crit, '> 0', crit > 0, '\\n'\n",
    "        if cost <= tol:\n",
    "            break\n",
    "    return W1, W2, angles, Lk"
   ]
  },
  {
   "cell_type": "code",
   "execution_count": 6,
   "metadata": {
    "collapsed": false
   },
   "outputs": [
    {
     "name": "stdout",
     "output_type": "stream",
     "text": [
      "Cost: 1637494.94138\n",
      "Computing angle between updates - epoch 1\n",
      "Alignment criterion: 0.892324676656 > 0 True \n",
      "\n",
      "Cost: 892520.567695\n",
      "Computing angle between updates - epoch 11\n",
      "Alignment criterion: 0.90507314825 > 0 True \n",
      "\n",
      "Cost: 121899.748981\n",
      "Computing angle between updates - epoch 21\n",
      "Alignment criterion: 0.869021030984 > 0 True \n",
      "\n",
      "Cost: 18642.0862793\n",
      "Computing angle between updates - epoch 31\n",
      "Alignment criterion: 0.726549239989 > 0 True \n",
      "\n",
      "Cost: 4842.88070451\n",
      "Computing angle between updates - epoch 41\n",
      "Alignment criterion: 0.876483807536 > 0 True \n",
      "\n",
      "Cost: 1650.59100758\n",
      "Computing angle between updates - epoch 51\n",
      "Alignment criterion: 0.941085830391 > 0 True \n",
      "\n",
      "Cost: 652.905882291\n",
      "Computing angle between updates - epoch 61\n",
      "Alignment criterion: 0.924814560334 > 0 True \n",
      "\n",
      "Cost: 340.698308333\n",
      "Computing angle between updates - epoch 71\n",
      "Alignment criterion: 0.842597468996 > 0 True \n",
      "\n",
      "Cost: 239.611390193\n",
      "Computing angle between updates - epoch 81\n",
      "Alignment criterion: 0.693548775258 > 0 True \n",
      "\n",
      "Cost: 196.699664692\n",
      "Computing angle between updates - epoch 91\n",
      "Alignment criterion: 0.556787568604 > 0 True \n",
      "\n",
      "Cost: 168.315018756\n",
      "Computing angle between updates - epoch 101\n",
      "Alignment criterion: 0.512413657815 > 0 True \n",
      "\n",
      "Cost: 143.531362268\n",
      "Computing angle between updates - epoch 111\n",
      "Alignment criterion: 0.546814824714 > 0 True \n",
      "\n",
      "Cost: 120.299366182\n",
      "Computing angle between updates - epoch 121\n",
      "Alignment criterion: 0.603451026442 > 0 True \n",
      "\n",
      "Cost: 98.7445900729\n",
      "Computing angle between updates - epoch 131\n",
      "Alignment criterion: 0.652528805825 > 0 True \n",
      "\n",
      "Cost: 79.3526857726\n",
      "Computing angle between updates - epoch 141\n",
      "Alignment criterion: 0.69067405294 > 0 True \n",
      "\n",
      "Cost: 62.4864265014\n",
      "Computing angle between updates - epoch 151\n",
      "Alignment criterion: 0.720565315052 > 0 True \n",
      "\n",
      "Cost: 48.281847846\n",
      "Computing angle between updates - epoch 161\n",
      "Alignment criterion: 0.744448857476 > 0 True \n",
      "\n",
      "Cost: 36.6657558825\n",
      "Computing angle between updates - epoch 171\n",
      "Alignment criterion: 0.763754172125 > 0 True \n",
      "\n",
      "Cost: 27.4135531807\n",
      "Computing angle between updates - epoch 181\n",
      "Alignment criterion: 0.779443778061 > 0 True \n",
      "\n",
      "Cost: 20.2139853676\n",
      "Computing angle between updates - epoch 191\n",
      "Alignment criterion: 0.792226650146 > 0 True \n",
      "\n",
      "Cost: 14.7248426103\n",
      "Computing angle between updates - epoch 201\n",
      "Alignment criterion: 0.802655470926 > 0 True \n",
      "\n",
      "Cost: 10.6132464936\n",
      "Computing angle between updates - epoch 211\n",
      "Alignment criterion: 0.811172420409 > 0 True \n",
      "\n",
      "Cost: 7.58011635356\n",
      "Computing angle between updates - epoch 221\n",
      "Alignment criterion: 0.818134678908 > 0 True \n",
      "\n",
      "Cost: 5.37158850406\n",
      "Computing angle between updates - epoch 231\n",
      "Alignment criterion: 0.823831578824 > 0 True \n",
      "\n",
      "Cost: 3.78124054451\n",
      "Computing angle between updates - epoch 241\n",
      "Alignment criterion: 0.828497641859 > 0 True \n",
      "\n",
      "Cost: 2.64675502991\n",
      "Computing angle between updates - epoch 251\n",
      "Alignment criterion: 0.832323022204 > 0 True \n",
      "\n",
      "Cost: 1.84384972359\n",
      "Computing angle between updates - epoch 261\n",
      "Alignment criterion: 0.835461992426 > 0 True \n",
      "\n",
      "Cost: 1.2793820958\n",
      "Computing angle between updates - epoch 271\n",
      "Alignment criterion: 0.838039836663 > 0 True \n",
      "\n",
      "Cost: 0.884749408173\n",
      "Computing angle between updates - epoch 281\n",
      "Alignment criterion: 0.840158427372 > 0 True \n",
      "\n",
      "Cost: 0.610133878441\n",
      "Computing angle between updates - epoch 291\n",
      "Alignment criterion: 0.841900720182 > 0 True \n",
      "\n",
      "Cost: 0.419775581883\n",
      "Computing angle between updates - epoch 301\n",
      "Alignment criterion: 0.843334368519 > 0 True \n",
      "\n",
      "Cost: 0.288248156267\n",
      "Computing angle between updates - epoch 311\n",
      "Alignment criterion: 0.844514628202 > 0 True \n",
      "\n",
      "Cost: 0.197613160351\n",
      "Computing angle between updates - epoch 321\n",
      "Alignment criterion: 0.845486692665 > 0 True \n",
      "\n",
      "Cost: 0.135295814077\n",
      "Computing angle between updates - epoch 331\n",
      "Alignment criterion: 0.846287572982 > 0 True \n",
      "\n",
      "Cost: 0.0925276295491\n",
      "Computing angle between updates - epoch 341\n",
      "Alignment criterion: 0.846947614333 > 0 True \n",
      "\n",
      "Cost: 0.0632207769716\n",
      "Computing angle between updates - epoch 351\n",
      "Alignment criterion: 0.847491721963 > 0 True \n",
      "\n",
      "Cost: 0.0431636627564\n",
      "Computing angle between updates - epoch 361\n",
      "Alignment criterion: 0.847940354529 > 0 True \n",
      "\n",
      "Cost: 0.0294512598759\n",
      "Computing angle between updates - epoch 371\n",
      "Alignment criterion: 0.848310330877 > 0 True \n",
      "\n",
      "Cost: 0.0200846325092\n",
      "Computing angle between updates - epoch 381\n",
      "Alignment criterion: 0.848615486605 > 0 True \n",
      "\n",
      "Cost: 0.0136910734941\n",
      "Computing angle between updates - epoch 391\n",
      "Alignment criterion: 0.848867209566 > 0 True \n",
      "\n",
      "Cost: 0.0093294735304\n",
      "Computing angle between updates - epoch 401\n",
      "Alignment criterion: 0.84907487727 > 0 True \n",
      "\n",
      "Cost: 0.00635549839313\n",
      "Computing angle between updates - epoch 411\n",
      "Alignment criterion: 0.849246214772 > 0 True \n",
      "\n",
      "Cost: 0.00432849681259\n",
      "Computing angle between updates - epoch 421\n",
      "Alignment criterion: 0.849387588012 > 0 True \n",
      "\n",
      "Cost: 0.00294739216612\n",
      "Computing angle between updates - epoch 431\n",
      "Alignment criterion: 0.849504244351 > 0 True \n",
      "\n",
      "Cost: 0.00200662961298\n",
      "Computing angle between updates - epoch 441\n",
      "Alignment criterion: 0.849600509978 > 0 True \n",
      "\n",
      "Cost: 0.00136595841628\n",
      "Computing angle between updates - epoch 451\n",
      "Alignment criterion: 0.849679952515 > 0 True \n",
      "\n"
     ]
    }
   ],
   "source": [
    "# LET'S TRAIN!\n",
    "M, samples, targets = create_dataset(10, 10, 1000)\n",
    "w1, w2, angles, Lk = train_on_dataset(samples, targets, 10, 10, 1000) "
   ]
  },
  {
   "cell_type": "markdown",
   "metadata": {},
   "source": [
    "Let's define an error $$D = \\sum_{i, j}|M_{ij}-O_{ij}|$$"
   ]
  },
  {
   "cell_type": "code",
   "execution_count": 7,
   "metadata": {
    "collapsed": false
   },
   "outputs": [
    {
     "name": "stdout",
     "output_type": "stream",
     "text": [
      "D: 0.00952818848004\n"
     ]
    }
   ],
   "source": [
    "O = np.dot(w2, w1)\n",
    "print 'D:', np.sum(np.abs(M-O))"
   ]
  },
  {
   "cell_type": "code",
   "execution_count": 8,
   "metadata": {
    "collapsed": false
   },
   "outputs": [
    {
     "data": {
      "text/plain": [
       "(0, 100)"
      ]
     },
     "execution_count": 8,
     "metadata": {},
     "output_type": "execute_result"
    },
    {
     "data": {
      "image/png": "[encoded data removed]",
      "text/plain": [
       "<matplotlib.figure.Figure at 0x108a65f90>"
      ]
     },
     "metadata": {},
     "output_type": "display_data"
    }
   ],
   "source": [
    "plt.plot(range(len(angles)), angles)\n",
    "plt.xlabel('Iterations/50')\n",
    "plt.ylabel('Angle (degrees)')\n",
    "plt.xlim([0, range(len(angles))[-1]])\n",
    "plt.ylim([0, 100])"
   ]
  },
  {
   "cell_type": "code",
   "execution_count": 9,
   "metadata": {
    "collapsed": false
   },
   "outputs": [
    {
     "data": {
      "text/plain": [
       "<matplotlib.text.Text at 0x108a659d0>"
      ]
     },
     "execution_count": 9,
     "metadata": {},
     "output_type": "execute_result"
    },
    {
     "data": {
      "image/png": "[encoded data removed]",
      "text/plain": [
       "<matplotlib.figure.Figure at 0x109c85350>"
      ]
     },
     "metadata": {},
     "output_type": "display_data"
    }
   ],
   "source": [
    "plt.plot(range(len(Lk)), Lk)\n",
    "plt.xlim([0, range(len(Lk))[-1]])\n",
    "plt.xlabel('Iterations/50')\n",
    "plt.ylabel('Alignment criterion')"
   ]
  }
 ],
 "metadata": {
  "kernelspec": {
   "display_name": "Python 2",
   "language": "python",
   "name": "python2"
  },
  "language_info": {
   "codemirror_mode": {
    "name": "ipython",
    "version": 2
   },
   "file_extension": ".py",
   "mimetype": "text/x-python",
   "name": "python",
   "nbconvert_exporter": "python",
   "pygments_lexer": "ipython2",
   "version": "2.7.10"
  }
 },
 "nbformat": 4,
 "nbformat_minor": 0
}
